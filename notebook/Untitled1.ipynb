{
 "cells": [
  {
   "cell_type": "markdown",
   "id": "5f9a5262-d9d0-4649-9e2d-3d8ddbacfe2d",
   "metadata": {},
   "source": [
    "# A번 - 물약 구매 "
   ]
  },
  {
   "cell_type": "markdown",
   "id": "e14e6058-0983-4bc3-9cc4-95cf5f978093",
   "metadata": {},
   "source": [
    "준겸이는 모험가이다. 모험을 떠나기 위해서는 철저한 사전 준비를 갖추어야 한다.\n",
    "\n",
    "준겸이는 모험을 떠나기 전 $N$종류의 물약을 모두 구매하려고 한다. 물약 상점에 들른 준겸이는 각 물약이 $1$번부터 $N$번까지 번호가 매겨져 있다는 것을 알아냈다. 그런데, 물약 상점에서는 오늘 특별한 이벤트를 하고 있었다. 특정 물약을 구매하면, 어떤 다른 물약들을 할인해준다는 것이었다.\n",
    "\n",
    "원래 $i$번째 물약의 가격은 동전 $c_i$개이다. 만약 $i$번째 물약을 구매하면, $p_i$종류의 다른 물약의 가격이 내려간다.\n",
    "\n",
    "할인은 중첩된다. 예를 들어 $1$번 물약을 구매하면 $3$번 물약의 가격이 동전 $1$개만큼 할인되고, $2$번 물약을 구매하면 역시 $3$번 물약의 가격이 동전 $2$개만큼 할인된다고 하자. 그러면 두 물약을 모두 구매하고 나서 $3$번 물약을 구매할 때 동전 $3$개만큼의 할인을 받을 수 있다. 단, 물약의 가격이 내려가더라도 $0$ 이하로 내려가지는 않는다. 예를 들어, 원래 가격이 동전 $5$개인 물약이 동전 $4$개를 넘는 만큼 할인되더라도 가격은 동전 $1$개가 된다. \n",
    "\n",
    "준겸이는 신나서 물약을 구매하려다가, 물약을 구매하는 순서가 중요하다는 사실을 깨달았다. 준겸이를 위해 물약을 가장 싸게 샀을 때 그 비용을 알려주자."
   ]
  },
  {
   "cell_type": "markdown",
   "id": "5c72f46f-b92c-458b-aecb-12b1163c76b0",
   "metadata": {},
   "source": [
    "첫째 줄에 물약의 종류 $N$이 주어진다.\n",
    "\n",
    "둘째 줄에 물약의 가격 $c_i$가 공백을 사이에 두고 주어진다($1 \\le i \\le N$). \n",
    "\n",
    "다음 줄부터, 물약 할인 정보가 $N$개 주어진다. $i$번째로 주어지는 물약 할인 정보는 다음과 같다($1 \\le i \\le N$). \n",
    "\n",
    " $p_i$가 주어진다. 다음 $p_i$개의 줄에, 물약 번호 $a_j$와 할인되는 가격 $d_j$가 주어진다. 이는 $i$번 물약을 구매하고 나면 물약 $a_j$가 동전 $d_j$개만큼 할인된다는 뜻이다."
   ]
  },
  {
   "cell_type": "markdown",
   "id": "66c099cc-0d8c-4c5b-a3d0-ab1fcd8e4fc0",
   "metadata": {},
   "source": [
    "첫째 줄에 물약을 가장 싸게 샀을 때 동전이 몇 개 필요한지 출력한다. \n",
    "\n",
    "- $2 \\le N \\le 10$ \n",
    "- $1 \\le c_i \\le 1\\,000$ \n",
    "- $0 \\le p_i \\le N-1$ \n",
    "- 각 $i$에 대해, 모든 $a_j$는 서로 다르고 $a_j \\neq i$ \n",
    "- $1 \\le d_j \\le 1\\,000$ "
   ]
  },
  {
   "cell_type": "code",
   "execution_count": 142,
   "id": "b0f60312-a9dc-4ba2-8713-fceba222af78",
   "metadata": {},
   "outputs": [],
   "source": [
    "# 예제 입력 1 \n",
    "# 4\n",
    "# 10 15 20 25\n",
    "# 2\n",
    "# 3 10\n",
    "# 2 20\n",
    "# 0\n",
    "# 1\n",
    "# 4 10\n",
    "# 1\n",
    "# 1 10"
   ]
  },
  {
   "cell_type": "code",
   "execution_count": 143,
   "id": "48a3c4d8-002e-4e5f-a10c-fc093ae9bc1d",
   "metadata": {},
   "outputs": [],
   "source": [
    "# 예제 출력 1 \n",
    "# 36"
   ]
  },
  {
   "cell_type": "markdown",
   "id": "a2eea1bb-3daf-472f-bf94-31839d429f7b",
   "metadata": {},
   "source": [
    "동전 10개를 지불하고 1번 물약을 구매하면, 3번 물약이 동전 10개만큼 할인되어 값이 동전 10개가 된다. 2번 물약은 동전 20개만큼 할인되어야 하지만, 최소 1개는 지불해야 하므로 값이 동전 1개가 된다. 그 후 동전 10개를 지불하고 3번 물약을 구매하면, 4번 물약이 동전 10개만큼 할인되어 값이 동전 15개가 된다. 그 후에 2번 물약과 4번 물약을 동전 1개와 15개를 내고 각각 구매하면 총 36개의 동전을 내고 모든 물약을 구매할 수 있다."
   ]
  },
  {
   "cell_type": "code",
   "execution_count": 14,
   "id": "bf5f7c01-0b55-4231-b1b8-93b3c585906d",
   "metadata": {},
   "outputs": [
    {
     "name": "stdin",
     "output_type": "stream",
     "text": [
      " 4\n",
      " 10 15 20 25\n",
      " 2\n",
      " 3 10\n",
      " 2 20\n",
      " 0\n",
      " 1\n",
      " 4 10\n",
      " 1\n",
      " 1 10\n"
     ]
    }
   ],
   "source": [
    "N = int(input())\n",
    "C = list(map(int,input().split()))\n",
    "D = {k:{\"a\":[],\"d\":[]} for k in range(1, N+1)}\n",
    "for i in range(1, N+1):\n",
    "    for _ in range(int(input())):\n",
    "        a, d = list(map(int,input().split()))\n",
    "        D[i][\"a\"].append(a)\n",
    "        D[i][\"d\"].append(d)\n",
    "results = []\n",
    "for root in range(1,N+1):\n",
    "    price = C.copy()\n",
    "    visited = []\n",
    "    stack = [root]\n",
    "    while stack:\n",
    "        top = stack.pop()\n",
    "        if top not in visited:\n",
    "            visited.append(top)\n",
    "            if top in list(D.keys()):\n",
    "                stack += D[top][\"a\"]\n",
    "                for a, d in zip(D[top][\"a\"], D[top][\"d\"]):\n",
    "                    if a not in visited:\n",
    "                        price[a-1] = max(price[a-1]-d, 1)\n",
    "    results.append(sum(price))\n",
    "print(min(results))"
   ]
  },
  {
   "cell_type": "markdown",
   "id": "e7b88c38-4d08-4bbb-884c-b5e73e4a4e04",
   "metadata": {},
   "source": [
    "# B번 - 숫자 이어 붙이기 실패\n"
   ]
  },
  {
   "cell_type": "markdown",
   "id": "9d6309df-1427-4437-94d6-558d2c40794a",
   "metadata": {},
   "source": [
    "철수는 수를 이어 붙이는 놀이를 좋아한다. 1과 2를 이어 붙이면 12가 되고, 17과 13을 이어 붙이면 1713이 된다. 100과 1000을 이어 붙이면 1001000이 된다. 1과 2를 이어 붙이되, 순서를 반대로 해서 2와 1을 이어 붙이면, 21이 된다. 같은 두 수를 이어 붙이더라도, 이어 붙이는 순서에 따라서 값이 달라진다는 것을 알 수 있다.\n",
    "\n",
    "철수가 살고 있는 마을에는 집이 여러 채 있고, 각 집에는 $1$부터 $N$까지 번호가 붙어있다. 두 집 사이에 존재하는 도로를 통해 서로 이동할 수 있다. 총 $N-1$개의 도로가 존재한다. $i$번째 도로는 $a_i$번 집과 $b_i$집을 잇는다. 집과 도로는 트리의 형태를 이룬다. 즉, 어떤 집에서 시작해서 몇 개의 도로를 거쳐 어떤 집이라도 갈 수 있고, 같은 집을 두 번 방문하지 않을 경우 그 경로는 유일하다.\n",
    "\n",
    "각각의 집의 대문에는 수가 쓰여있다. 철수는 총 $Q$번 수를 이어 붙이는 놀이를 할 것이다. $i$번째 놀이에서는 $x_i$번째 집에서 시작해서, $y_i$번째 집까지 이동하면서, 이동하는 경로 상에 있는 집들의 대문에 쓰여있는 수들을 방문하는 순서대로 이어 붙일 것이다. 만약 $x_i = y_i$라면, $x_i$번째 집의 대문에 쓰인 수가 답이 될 것이다. 철수는 놀이가 끝날 때마다, 자기가 올바르게 수들을 이어 붙였는지 궁금해졌다. 철수를 위해, $i$번째 놀이가 끝났을 때 이어 붙인 수의 값을 구해주자. 단, 수가 너무 커질 수 있으니까, $1\\,000\\,000\\,007$로 나눈 나머지를 출력하도록 하자."
   ]
  },
  {
   "cell_type": "markdown",
   "id": "ad7be50b-da75-42ca-a5e5-ea79ee4c0263",
   "metadata": {},
   "source": [
    "첫 번째 줄에는 집의 개수 $N$과, 철수가 놀이를 할 횟수 $Q$가 주어진다.\n",
    "\n",
    "두 번째 줄에는 $N$개의 집의 대문에 쓰여 있는 수 $A_i$가 공백을 사이에 두고 순서대로 주어진다.\n",
    "\n",
    "세 번째 줄부터 $N+1$번째 줄까지는, 도로의 정보가 주어진다. $2+i$번째 줄에는 $i$번째 도로가 잇는 두 집의 번호 $a_i, b_i$에 대한 정보가 공백을 사이에 두고 주어진다.\n",
    "\n",
    " $N+2$번째 줄부터 $N+Q+1$번째 줄까지는 놀이에 대한 정보가 주어진다. $N+i+1$번째 줄에는 $i$번째 놀이를 시작할 집의 번호 $x_i$와, 끝낼 집의 번호 $y_i$가 공백을 사이에 두고 주어진다."
   ]
  },
  {
   "cell_type": "markdown",
   "id": "6b875652-7cb7-42dc-ab11-aeb59bb9c98c",
   "metadata": {},
   "source": [
    "- $2\\leq N \\leq 1\\,000$ \n",
    "- $1\\leq Q \\leq 1\\,000$ \n",
    "- $1 \\leq A_i \\leq 1\\,000\\,000\\,000$ ($1 \\leq i \\leq N$)\n",
    "- $1 \\leq a_i, b_i \\leq N$ \n",
    "- $1 \\leq x_i, y_i \\leq N$ "
   ]
  },
  {
   "cell_type": "code",
   "execution_count": 140,
   "id": "d4321b4f-a3ea-4c64-87ac-6a2b3556bac3",
   "metadata": {},
   "outputs": [],
   "source": [
    "# 예제 입력 1 \n",
    "# 3 2\n",
    "# 10 9 1\n",
    "# 1 2\n",
    "# 2 3\n",
    "# 1 3\n",
    "# 3 1"
   ]
  },
  {
   "cell_type": "code",
   "execution_count": 141,
   "id": "8c0683c1-f6c3-483b-ab87-24a3ea695b4e",
   "metadata": {},
   "outputs": [],
   "source": [
    "# 예제 출력 1 \n",
    "# 1091\n",
    "# 1910"
   ]
  },
  {
   "cell_type": "code",
   "execution_count": 59,
   "id": "4fe9baab-7b0d-40dc-b0c8-6a018197ebc6",
   "metadata": {},
   "outputs": [
    {
     "name": "stdin",
     "output_type": "stream",
     "text": [
      " 3 2\n",
      " 10 9 1\n",
      " 1 2\n",
      " 2 3\n",
      " 1 3\n",
      " 3 1\n"
     ]
    }
   ],
   "source": [
    "N, Q = list(map(int, input().split()))\n",
    "A = list(map(int, input().split()))\n",
    "G = {k:[] for k in range(1, N+1)}\n",
    "R = []\n",
    "\n",
    "for _ in range(N-1):\n",
    "    # G.append(list(map(int,input().split())))\n",
    "    a, b = list(map(int,input().split()))\n",
    "    G[a].append(b)\n",
    "    G[b].append(a)\n",
    "    \n",
    "for _ in range(Q):\n",
    "    R.append(list(map(int,input().split())))\n",
    "\n",
    "for st, ed in R:\n",
    "    visited = []\n",
    "    queue = [st]\n",
    "    N = \"\"\n",
    "    while queue:\n",
    "        top = queue.pop(0)\n",
    "        visited.append(top)\n",
    "        N += str(A[top-1])\n",
    "        if top == ed:\n",
    "            print(int(N) % 1000000007)\n",
    "            break\n",
    "        for mid in G[top]:\n",
    "            if mid not in visited:\n",
    "                visited.append(mid)\n",
    "                queue.append(mid)"
   ]
  },
  {
   "cell_type": "markdown",
   "id": "157d9ca4-5c5a-4514-b88a-3dc1e7664d20",
   "metadata": {},
   "source": [
    "# C번 - 나는 정말 휘파람을 못 불어"
   ]
  },
  {
   "cell_type": "markdown",
   "id": "a845aa0b-20fd-436e-a212-5d1fddb1b4a6",
   "metadata": {},
   "source": [
    "휘파람을 불지 못하는 시루는 휘파람을 불기 위해 수없이 많이 시도했지만 항상 실패한다. 시루의 휘파람 연습을 도와주고 있는 루시는, 시루가 휘파람과 비슷한 소리를 낼 때마다 사탕을 주기로 했다.\n",
    "\n",
    "시루의 입에서 나온 소리는 대문자로 구성된 문자열 $S$로 나타낼 수 있다. 루시는 문자열 $S$에서 휘파람과 비슷한 소리, 즉 '유사 휘파람 문자열'의 개수를 구해야 한다. '유사 휘파람 문자열'은 다음과 같이 정의한다.\n",
    "\n",
    "- WHEE 는 '유사 휘파람 문자열'이다.\n",
    "- '유사 휘파람 문자열' 뒤에 E 를 붙인 것 또한 '유사 휘파람 문자열'이다.\n",
    "\n",
    "'유사 휘파람 문자열'은 문자열 $S$ 상에서 연속하지 않아도 된다. 즉, $S$에서 '유사 휘파람 문자열'인 부분 수열(subsequence)의 개수를 구하면 된다.\n",
    "\n",
    "시루는 수없이 많이 시도했기 때문에 $S$의 길이가 너무 길어졌다. 루시를 도와 시루에게 사탕을 몇 개 줘야 할지 계산해주자."
   ]
  },
  {
   "cell_type": "markdown",
   "id": "60409d3f-db63-4cc7-ae7b-708db17d6910",
   "metadata": {},
   "source": [
    "첫째 줄에 문자열 $S$의 길이 $N$이 주어진다.\n",
    "\n",
    "둘째 줄에 대문자로만 구성된 문자열 $S$가 주어진다."
   ]
  },
  {
   "cell_type": "markdown",
   "id": "541abe68-895b-49c0-b4b6-ec31ebc54e27",
   "metadata": {},
   "source": [
    "'유사 휘파람 문자열'인 부분 수열의 개수를 $1\\,000\\,000\\,007(= 10^9+7)$로 나눈 나머지를 출력한다."
   ]
  },
  {
   "cell_type": "markdown",
   "id": "3a2eedd2-5b02-459e-8108-39b9b29fc217",
   "metadata": {},
   "source": [
    " $1 \\leq N \\leq 200\\,000$ \n",
    " \n",
    " $S$는 대문자로만 구성되어 있다."
   ]
  },
  {
   "cell_type": "code",
   "execution_count": 144,
   "id": "49372a60-621a-4697-8ee5-5628782974b9",
   "metadata": {},
   "outputs": [],
   "source": [
    "# 예제 입력 1 \n",
    "\n",
    "# 8\n",
    "\n",
    "# WAHEWHEE\n",
    "\n",
    "# 예제 출력 1 \n",
    "\n",
    "# 6\n",
    "\n",
    "# - W_HE__E_\n",
    "# - W_HE___E\n",
    "# - W_H___EE\n",
    "# - W_HE__EE\n",
    "# - W____HEE\n",
    "# - ____WHEE"
   ]
  },
  {
   "cell_type": "code",
   "execution_count": 127,
   "id": "756fe572-db66-4510-8dc7-656905c6faac",
   "metadata": {
    "tags": []
   },
   "outputs": [
    {
     "name": "stdin",
     "output_type": "stream",
     "text": [
      " 9\n",
      " WAHEWHEEE\n"
     ]
    }
   ],
   "source": [
    "N = int(input())\n",
    "S = list(input())\n",
    "W = \"WHEE\""
   ]
  },
  {
   "cell_type": "code",
   "execution_count": 128,
   "id": "3c15f621-cfb4-46c9-9c65-eedabd9d1b15",
   "metadata": {},
   "outputs": [],
   "source": [
    "D = {k:[] for k in W}\n",
    "for i in range(len(S)):\n",
    "    if S[i] in W:\n",
    "        D[S[i]].append(i)"
   ]
  },
  {
   "cell_type": "code",
   "execution_count": 134,
   "id": "49e107ed-80ff-4894-9778-1b6707ee1db0",
   "metadata": {},
   "outputs": [
    {
     "name": "stdout",
     "output_type": "stream",
     "text": [
      "49\n"
     ]
    }
   ],
   "source": [
    "import math\n",
    "results = 0\n",
    "for w_idx in D[\"W\"]:\n",
    "    for h_idx in D[\"H\"]:\n",
    "        if h_idx > w_idx:\n",
    "            for e in range(len(D[\"E\"])):\n",
    "                if D[\"E\"][e] > w_idx:\n",
    "                    if e < len(D[\"E\"]) - 1:\n",
    "                        n = len(D[\"E\"]) - e\n",
    "                        results += math.factorial(n) - n\n",
    "print(results % 1000000007)"
   ]
  }
 ],
 "metadata": {
  "kernelspec": {
   "display_name": "Python 3",
   "language": "python",
   "name": "python3"
  },
  "language_info": {
   "codemirror_mode": {
    "name": "ipython",
    "version": 3
   },
   "file_extension": ".py",
   "mimetype": "text/x-python",
   "name": "python",
   "nbconvert_exporter": "python",
   "pygments_lexer": "ipython3",
   "version": "3.8.10"
  }
 },
 "nbformat": 4,
 "nbformat_minor": 5
}
