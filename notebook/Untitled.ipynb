{
 "cells": [
  {
   "cell_type": "code",
   "execution_count": 8,
   "id": "9629b2a4-d375-45d4-a702-be5fe6092f91",
   "metadata": {},
   "outputs": [],
   "source": [
    "def factorial(n):\n",
    "    if n <= 1:\n",
    "        return 1\n",
    "    return n * factorial(n-1)"
   ]
  },
  {
   "cell_type": "code",
   "execution_count": 18,
   "id": "53b7eee0-ab13-4131-a3f3-7f388ae54b40",
   "metadata": {},
   "outputs": [],
   "source": [
    "def fibo(n):\n",
    "    if n == 0:\n",
    "        return 0\n",
    "    elif n == 1:\n",
    "        return 1\n",
    "    return fibo(n-1)+fibo(n-2)"
   ]
  },
  {
   "cell_type": "code",
   "execution_count": 74,
   "id": "fb70ed1b-6ade-4f2c-9b33-bce0267e8774",
   "metadata": {},
   "outputs": [],
   "source": []
  },
  {
   "cell_type": "code",
   "execution_count": 114,
   "id": "14cb4471-dca6-40c5-a343-c414edcce934",
   "metadata": {
    "tags": []
   },
   "outputs": [
    {
     "name": "stdin",
     "output_type": "stream",
     "text": [
      " 3\n"
     ]
    },
    {
     "name": "stdout",
     "output_type": "stream",
     "text": [
      "***\n",
      "* *\n",
      "***\n"
     ]
    }
   ],
   "source": [
    "def get_star(n, base):\n",
    "    if n == 1:\n",
    "        return base\n",
    "    stars = []\n",
    "    # 3등분에서 첫째줄 그리기\n",
    "    for b in base:\n",
    "        stars.append(b*3)\n",
    "    # 3등분에서 두번째줄 그리기\n",
    "    for b in base:\n",
    "        stars.append(b+\" \"*len(base)+b)\n",
    "    # 3등분에서 세번째줄 그리기\n",
    "    for b in base:\n",
    "        stars.append(b*3)\n",
    "    return get_star(n//3, stars)\n",
    " \n",
    "n = int(input())\n",
    "stars = get_star(n,\"*\")\n",
    "for s in stars:\n",
    "    print(s)"
   ]
  },
  {
   "cell_type": "code",
   "execution_count": 116,
   "id": "eddc6d21-1382-4a4f-a833-39cb30abc309",
   "metadata": {},
   "outputs": [
    {
     "name": "stdin",
     "output_type": "stream",
     "text": [
      " 3\n"
     ]
    },
    {
     "name": "stdout",
     "output_type": "stream",
     "text": [
      "7\n",
      "None\n"
     ]
    }
   ],
   "source": [
    "def hanoi(n):\n",
    "    print(2**n - 1)\n",
    "    \n",
    "n = int(input())\n",
    "print(hanoi(n))"
   ]
  },
  {
   "cell_type": "code",
   "execution_count": 119,
   "id": "ab6b990b-d804-414d-a3d2-69b9378a4a5f",
   "metadata": {},
   "outputs": [],
   "source": [
    "def DFS(G, V):\n",
    "\n",
    "def BFS(G, V):\n",
    "    \n",
    "def main():\n",
    "    N, M, V = list(map(int, input().split()))\n",
    "    G = []\n",
    "    for _ in range(M):\n",
    "        G.append(list(map(int, input().split())))\n"
   ]
  },
  {
   "cell_type": "code",
   "execution_count": 120,
   "id": "7712f450-2ce7-4508-9cf8-40ef53fb56c1",
   "metadata": {},
   "outputs": [
    {
     "name": "stdin",
     "output_type": "stream",
     "text": [
      " 4 5 1\n",
      " 1 2\n",
      " 1 3\n",
      " 1 4\n",
      " 2 4\n",
      " 3 4\n"
     ]
    },
    {
     "name": "stdout",
     "output_type": "stream",
     "text": [
      "[[1, 2], [1, 3], [1, 4], [2, 4], [3, 4]]\n"
     ]
    }
   ],
   "source": [
    "main()"
   ]
  },
  {
   "cell_type": "code",
   "execution_count": null,
   "id": "f07e33e2-fb2d-4b7e-bc02-818437e3737e",
   "metadata": {},
   "outputs": [],
   "source": []
  }
 ],
 "metadata": {
  "kernelspec": {
   "display_name": "Python 3",
   "language": "python",
   "name": "python3"
  },
  "language_info": {
   "codemirror_mode": {
    "name": "ipython",
    "version": 3
   },
   "file_extension": ".py",
   "mimetype": "text/x-python",
   "name": "python",
   "nbconvert_exporter": "python",
   "pygments_lexer": "ipython3",
   "version": "3.8.10"
  }
 },
 "nbformat": 4,
 "nbformat_minor": 5
}
