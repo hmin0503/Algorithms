{
 "cells": [
  {
   "cell_type": "code",
   "execution_count": 3,
   "id": "75b58298-d237-466f-a11c-08cda8ef551d",
   "metadata": {},
   "outputs": [],
   "source": [
    "from itertools import combinations\n",
    "def main():\n",
    "    N, M, K = list(map(int, input().split()))\n",
    "    foods_pre = {k:[] for k in range(M)}\n",
    "    for c in range(N):\n",
    "        survey = list(map(int, input().split()))\n",
    "        for i in range(len(survey)):\n",
    "            if survey[i] >= 5:\n",
    "                foods_pre[i].append(c)\n",
    "    retained_cust = []\n",
    "    for c in list(combinations(list(foods_pre.keys()),K)):\n",
    "        customers = [v for k,v in foods_pre.items() if k not in c]\n",
    "        customers = sum(customers,[])\n",
    "        retained_cust.append(len(set(customers)))\n",
    "    print(max(retained_cust))"
   ]
  },
  {
   "cell_type": "code",
   "execution_count": 19,
   "id": "68a2b72b-2af3-4f7b-994b-07ee5e630ada",
   "metadata": {},
   "outputs": [],
   "source": [
    "def main():\n",
    "    N, M, K = list(map(int, input().split()))\n",
    "    students = {k:0 for k in range(1, N + 1)}\n",
    "    friends = {k:[] for k in range(1, N + 1)}\n",
    "    # graphs = [[0 for _ in range(N+1)] for _ in range(N+1)]\n",
    "    for _ in range(M):\n",
    "        i, s = list(map(int, input().split()))\n",
    "        students[i] = s\n",
    "    for _ in range(K):\n",
    "        a, b = list(map(int, input().split()))\n",
    "        friends[a].append(b)\n",
    "        friends[b].append(a)\n",
    "        # graphs[a][b] = graphs[b][a] = 1\n",
    "    # 만족도 모으기\n",
    "    survey = students.copy()\n",
    "    # 만족도 조사 안한 학생\n",
    "    no_part = [k for k, v in students.items() if v == 0]\n",
    "    for s in no_part:\n",
    "        if len(friends[s]) == 0:\n",
    "            continue\n",
    "        else:\n",
    "            hop2friends = []\n",
    "            for s2 in friends[s]:\n",
    "                hop2friends.append(friends[s2])\n",
    "            hop2friends.append(friends[s])\n",
    "            hop2friends = sum(hop2friends,[])\n",
    "            hop2friends = list(set(hop2friends))\n",
    "            if s in hop2friends:\n",
    "                hop2friends.remove(s)\n",
    "            avg_cont = 0\n",
    "            exception = 0\n",
    "            for c in hop2friends:\n",
    "                if students[c] == 0:\n",
    "                    exception += 1\n",
    "                else:\n",
    "                    avg_cont += students[c]\n",
    "            survey[s] = int(avg_cont/(len(hop2friends)-exception))\n",
    "    scores = sum(survey.values())\n",
    "    num_parts = len([k for k, v in survey.items() if v != 0])\n",
    "    print(round(scores/num_parts,2))\n",
    "if __name__==\"__main__\":\n",
    "    main()"
   ]
  },
  {
   "cell_type": "code",
   "execution_count": 20,
   "id": "704ac5d1-74f8-42f9-b96d-4562e2654c99",
   "metadata": {},
   "outputs": [
    {
     "name": "stdin",
     "output_type": "stream",
     "text": [
      " 5 3 4\n",
      " 1 4\n",
      " 2 5\n",
      " 3 4\n",
      " \n"
     ]
    },
    {
     "ename": "ValueError",
     "evalue": "not enough values to unpack (expected 2, got 0)",
     "output_type": "error",
     "traceback": [
      "\u001b[0;31m---------------------------------------------------------------------------\u001b[0m",
      "\u001b[0;31mValueError\u001b[0m                                Traceback (most recent call last)",
      "\u001b[0;32m<ipython-input-20-263240bbee7e>\u001b[0m in \u001b[0;36m<module>\u001b[0;34m\u001b[0m\n\u001b[0;32m----> 1\u001b[0;31m \u001b[0mmain\u001b[0m\u001b[0;34m(\u001b[0m\u001b[0;34m)\u001b[0m\u001b[0;34m\u001b[0m\u001b[0;34m\u001b[0m\u001b[0m\n\u001b[0m",
      "\u001b[0;32m<ipython-input-19-71550fdc3fcc>\u001b[0m in \u001b[0;36mmain\u001b[0;34m()\u001b[0m\n\u001b[1;32m      8\u001b[0m         \u001b[0mstudents\u001b[0m\u001b[0;34m[\u001b[0m\u001b[0mi\u001b[0m\u001b[0;34m]\u001b[0m \u001b[0;34m=\u001b[0m \u001b[0ms\u001b[0m\u001b[0;34m\u001b[0m\u001b[0;34m\u001b[0m\u001b[0m\n\u001b[1;32m      9\u001b[0m     \u001b[0;32mfor\u001b[0m \u001b[0m_\u001b[0m \u001b[0;32min\u001b[0m \u001b[0mrange\u001b[0m\u001b[0;34m(\u001b[0m\u001b[0mK\u001b[0m\u001b[0;34m)\u001b[0m\u001b[0;34m:\u001b[0m\u001b[0;34m\u001b[0m\u001b[0;34m\u001b[0m\u001b[0m\n\u001b[0;32m---> 10\u001b[0;31m         \u001b[0ma\u001b[0m\u001b[0;34m,\u001b[0m \u001b[0mb\u001b[0m \u001b[0;34m=\u001b[0m \u001b[0mlist\u001b[0m\u001b[0;34m(\u001b[0m\u001b[0mmap\u001b[0m\u001b[0;34m(\u001b[0m\u001b[0mint\u001b[0m\u001b[0;34m,\u001b[0m \u001b[0minput\u001b[0m\u001b[0;34m(\u001b[0m\u001b[0;34m)\u001b[0m\u001b[0;34m.\u001b[0m\u001b[0msplit\u001b[0m\u001b[0;34m(\u001b[0m\u001b[0;34m)\u001b[0m\u001b[0;34m)\u001b[0m\u001b[0;34m)\u001b[0m\u001b[0;34m\u001b[0m\u001b[0;34m\u001b[0m\u001b[0m\n\u001b[0m\u001b[1;32m     11\u001b[0m         \u001b[0mfriends\u001b[0m\u001b[0;34m[\u001b[0m\u001b[0ma\u001b[0m\u001b[0;34m]\u001b[0m\u001b[0;34m.\u001b[0m\u001b[0mappend\u001b[0m\u001b[0;34m(\u001b[0m\u001b[0mb\u001b[0m\u001b[0;34m)\u001b[0m\u001b[0;34m\u001b[0m\u001b[0;34m\u001b[0m\u001b[0m\n\u001b[1;32m     12\u001b[0m         \u001b[0mfriends\u001b[0m\u001b[0;34m[\u001b[0m\u001b[0mb\u001b[0m\u001b[0;34m]\u001b[0m\u001b[0;34m.\u001b[0m\u001b[0mappend\u001b[0m\u001b[0;34m(\u001b[0m\u001b[0ma\u001b[0m\u001b[0;34m)\u001b[0m\u001b[0;34m\u001b[0m\u001b[0;34m\u001b[0m\u001b[0m\n",
      "\u001b[0;31mValueError\u001b[0m: not enough values to unpack (expected 2, got 0)"
     ]
    }
   ],
   "source": [
    "main()"
   ]
  },
  {
   "cell_type": "code",
   "execution_count": 11,
   "id": "cb88aa7c-d01a-40e1-9e56-8febf66115fe",
   "metadata": {},
   "outputs": [],
   "source": [
    "a = [1,2,3,3]"
   ]
  },
  {
   "cell_type": "code",
   "execution_count": 6,
   "id": "b33493b9-3181-44b2-b6b3-2c67ea456bfd",
   "metadata": {},
   "outputs": [],
   "source": [
    "a.remove(1)"
   ]
  },
  {
   "cell_type": "code",
   "execution_count": 12,
   "id": "caa257d3-7f89-48f7-9a95-a81f398e19eb",
   "metadata": {},
   "outputs": [],
   "source": [
    "a.remove(3)"
   ]
  },
  {
   "cell_type": "code",
   "execution_count": 13,
   "id": "d3f9c277-c16d-4a52-9624-761ccc1fad97",
   "metadata": {},
   "outputs": [
    {
     "data": {
      "text/plain": [
       "[1, 2, 3]"
      ]
     },
     "execution_count": 13,
     "metadata": {},
     "output_type": "execute_result"
    }
   ],
   "source": [
    "a"
   ]
  },
  {
   "cell_type": "code",
   "execution_count": 14,
   "id": "1979b350-1eca-455e-847c-6fdb46274324",
   "metadata": {},
   "outputs": [],
   "source": [
    "a = 1.234556"
   ]
  },
  {
   "cell_type": "code",
   "execution_count": 16,
   "id": "4182ec8f-c506-4329-9852-bea12d5ed89c",
   "metadata": {},
   "outputs": [
    {
     "data": {
      "text/plain": [
       "1.235"
      ]
     },
     "execution_count": 16,
     "metadata": {},
     "output_type": "execute_result"
    }
   ],
   "source": [
    "round(a,3)"
   ]
  },
  {
   "cell_type": "code",
   "execution_count": null,
   "id": "24290b95-c9fd-4234-b067-0de6505a0be7",
   "metadata": {},
   "outputs": [],
   "source": []
  }
 ],
 "metadata": {
  "kernelspec": {
   "display_name": "Python 3",
   "language": "python",
   "name": "python3"
  },
  "language_info": {
   "codemirror_mode": {
    "name": "ipython",
    "version": 3
   },
   "file_extension": ".py",
   "mimetype": "text/x-python",
   "name": "python",
   "nbconvert_exporter": "python",
   "pygments_lexer": "ipython3",
   "version": "3.8.10"
  }
 },
 "nbformat": 4,
 "nbformat_minor": 5
}
